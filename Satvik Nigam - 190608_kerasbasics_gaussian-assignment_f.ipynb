{
 "cells": [
  {
   "cell_type": "markdown",
   "metadata": {
    "colab_type": "text",
    "id": "QrZqmW-YtUKw"
   },
   "source": [
    "# Keras Basics\n",
    "We will learn about\n",
    "* Dense layers\n",
    "* Categorical cross-entropy\n",
    "\n",
    "A toy example to show how to train a classifier with Keras and use it. The data comes from three gaussian distributions."
   ]
  },
  {
   "cell_type": "code",
   "execution_count": null,
   "metadata": {
    "colab": {},
    "colab_type": "code",
    "id": "eWyR310TtUKy"
   },
   "outputs": [],
   "source": [
    "## DATA GENERATION\n",
    "import numpy as np\n",
    "\n",
    "def generateX(cls):\n",
    "    '''\n",
    "    Inputs:\n",
    "        cls: class {0, 1, 2}\n",
    "    Outputs:\n",
    "        x: a sample from cls; a np array of shape (2,)\n",
    "    '''\n",
    "    assert cls in [0,1,2]\n",
    "    if cls==0:\n",
    "        x = np.random.normal(np.array([0,0]),100)\n",
    "    elif cls==1:\n",
    "        x = np.random.normal(np.array([200,200]),100)\n",
    "    elif cls==2:\n",
    "        x = np.random.normal(np.array([-200,200]),100)\n",
    "    return x\n",
    "Nx = 2 # shape of a sample is (2,)\n",
    "Ny = 3 # 3 classes"
   ]
  },
  {
   "cell_type": "markdown",
   "metadata": {
    "colab_type": "text",
    "id": "24sOXTIttUK2"
   },
   "source": [
    "Could you write a function to generate N samples from class 0 and N samples from class 1?"
   ]
  },
  {
   "cell_type": "code",
   "execution_count": null,
   "metadata": {
    "colab": {},
    "colab_type": "code",
    "deletable": false,
    "id": "9W3ccvYYtUK4",
    "nbgrader": {
     "checksum": "71c5837a9d68fac4398e11bcb87c3bd2",
     "grade": false,
     "grade_id": "cell-6ee804e3860f2ff6",
     "locked": false,
     "schema_version": 1,
     "solution": true
    }
   },
   "outputs": [],
   "source": [
    "def generateXY(N):\n",
    "    '''\n",
    "    Inputs:\n",
    "        N: no. of samples of each class\n",
    "    Outputs:\n",
    "        X: np array of samples; shape = (3*N, 2)\n",
    "        Y: np array of samples; shape = (3*N, 1)\n",
    "    '''\n",
    "    # YOUR CODE HERE\n",
    "    return X, Y"
   ]
  },
  {
   "cell_type": "code",
   "execution_count": null,
   "metadata": {
    "colab": {},
    "colab_type": "code",
    "deletable": false,
    "id": "HTJ1wSumvGGZ",
    "nbgrader": {
     "checksum": "97c71a585cd83b64fc45836cd79d93a3",
     "grade": false,
     "grade_id": "cell-d48d4d901cf257df",
     "locked": false,
     "schema_version": 1,
     "solution": true
    }
   },
   "outputs": [],
   "source": [
    "def generateXY(N):\n",
    "    '''\n",
    "    Inputs:\n",
    "        N: no. of samples of each class\n",
    "    Outputs:\n",
    "        X: np array of samples; shape = (3*N, 2)\n",
    "        Y: np array of samples; shape = (3*N, 1)\n",
    "    '''\n",
    "    # YOUR CODE HERE\n",
    "    return X, Y"
   ]
  },
  {
   "cell_type": "code",
   "execution_count": null,
   "metadata": {
    "colab": {
     "base_uri": "https://localhost:8080/",
     "height": 35
    },
    "colab_type": "code",
    "deletable": false,
    "editable": false,
    "executionInfo": {
     "elapsed": 1709,
     "status": "ok",
     "timestamp": 1559978204159,
     "user": {
      "displayName": "Vipul Arora",
      "photoUrl": "https://lh3.googleusercontent.com/-iLBfwRLG7ho/AAAAAAAAAAI/AAAAAAAAB6k/T6VcGSrTtSQ/s64/photo.jpg",
      "userId": "11705575949970120379"
     },
     "user_tz": -330
    },
    "id": "sUqeO_NWtUK7",
    "nbgrader": {
     "checksum": "c0183471e369c049b734441886caaff4",
     "grade": true,
     "grade_id": "cell-ad908829419fd089",
     "locked": true,
     "points": 1,
     "schema_version": 1,
     "solution": false
    },
    "outputId": "532d1602-48d7-4012-ffb3-7dd1ca780a6f"
   },
   "outputs": [],
   "source": [
    "def test_generateXY():\n",
    "    X_train, Y_train = generateXY(50)\n",
    "    assert X_train.shape==(150,2)\n",
    "    assert Y_train.shape==(150,1)\n",
    "    print('Test passed', '\\U0001F44D')\n",
    "test_generateXY()"
   ]
  },
  {
   "cell_type": "markdown",
   "metadata": {
    "colab_type": "text",
    "id": "YJ3TNcj-tULI"
   },
   "source": [
    "### One-hot encoding\n",
    "\n",
    "Now our Y is in the form [0], [1] and [2]. We want to convert them to [1,0,0], [0,1,0] and [0,0,1], respectively. \n",
    "Could you write a code to convert Y (with one column) into one-hot encoded Y (with 3 columns)?"
   ]
  },
  {
   "cell_type": "code",
   "execution_count": null,
   "metadata": {
    "colab": {},
    "colab_type": "code",
    "deletable": false,
    "id": "_n4fYMC0tULJ",
    "nbgrader": {
     "checksum": "2920fc139021b2f772982b2e16731703",
     "grade": false,
     "grade_id": "cell-db496b9b86c28424",
     "locked": false,
     "schema_version": 1,
     "solution": true
    }
   },
   "outputs": [],
   "source": [
    "def oneHot(y, Ny):\n",
    "    '''\n",
    "    Input:\n",
    "        y: an int in {0, 1, 2}\n",
    "        Ny: Number of classes, e.g., 3 here.\n",
    "    Output:\n",
    "        Y: a vector of Ny (=3) tuples\n",
    "    '''\n",
    "    # YOUR CODE HERE\n",
    "    return Y\n"
   ]
  },
  {
   "cell_type": "code",
   "execution_count": null,
   "metadata": {
    "colab": {
     "base_uri": "https://localhost:8080/",
     "height": 35
    },
    "colab_type": "code",
    "deletable": false,
    "editable": false,
    "executionInfo": {
     "elapsed": 1678,
     "status": "ok",
     "timestamp": 1559978204165,
     "user": {
      "displayName": "Vipul Arora",
      "photoUrl": "https://lh3.googleusercontent.com/-iLBfwRLG7ho/AAAAAAAAAAI/AAAAAAAAB6k/T6VcGSrTtSQ/s64/photo.jpg",
      "userId": "11705575949970120379"
     },
     "user_tz": -330
    },
    "id": "fq8OZ0cxtULM",
    "nbgrader": {
     "checksum": "8612cec704a627b66ff552899569f828",
     "grade": true,
     "grade_id": "cell-24fb717c7ea66826",
     "locked": true,
     "points": 2,
     "schema_version": 1,
     "solution": false
    },
    "outputId": "3303f048-8471-496b-f48e-0f4c3c2db44a"
   },
   "outputs": [],
   "source": [
    "def test_oneHot():\n",
    "    assert np.all(oneHot(0,3)==np.array([1,0,0]))\n",
    "    assert np.all(oneHot(1,3)==np.array([0,1,0]))\n",
    "    assert np.all(oneHot(2,3)==np.array([0,0,1]))\n",
    "    print('Test passed', '\\U0001F44D')\n",
    "test_oneHot()"
   ]
  },
  {
   "cell_type": "markdown",
   "metadata": {
    "colab_type": "text",
    "id": "EzQywDiStULR"
   },
   "source": [
    "### Input Normalization\n",
    "X can lie in any unbounded range. We need to curtail to a narrow range close to zero. This helps in enhancing the stability of training and hyper-parameter tuning.\n",
    "This is normally achieved by scaling the X to have zero mean and unit standard deviation (std).\n",
    "\n",
    "$X \\leftarrow \\frac{X-mean(X)}{std(X)}$, where this is element wise division\n",
    "\n",
    "Could you use training samples to find mean and std, and normalize your X_train with that?"
   ]
  },
  {
   "cell_type": "code",
   "execution_count": null,
   "metadata": {
    "colab": {},
    "colab_type": "code",
    "deletable": false,
    "id": "_v_HEe10tULS",
    "nbgrader": {
     "checksum": "4d88f9abc4004f238b182e54336e76e2",
     "grade": false,
     "grade_id": "cell-8564364c76ddcdc7",
     "locked": false,
     "schema_version": 1,
     "solution": true
    }
   },
   "outputs": [],
   "source": [
    "def findMeanStddev(X):\n",
    "    '''\n",
    "    Input: \n",
    "        X: a matrix of size (no. of samples, dimension of each sample)\n",
    "    Output:\n",
    "        mean: mean of samples in X; shape is (dimension of each sample,)\n",
    "        stddev: element-wise std dev of sample in X; shape is (dimension of each sample,)\n",
    "    '''\n",
    "    # YOUR CODE HERE\n",
    "    return mean, stddev"
   ]
  },
  {
   "cell_type": "code",
   "execution_count": null,
   "metadata": {
    "colab": {
     "base_uri": "https://localhost:8080/",
     "height": 35
    },
    "colab_type": "code",
    "deletable": false,
    "editable": false,
    "executionInfo": {
     "elapsed": 1643,
     "status": "ok",
     "timestamp": 1559978204172,
     "user": {
      "displayName": "Vipul Arora",
      "photoUrl": "https://lh3.googleusercontent.com/-iLBfwRLG7ho/AAAAAAAAAAI/AAAAAAAAB6k/T6VcGSrTtSQ/s64/photo.jpg",
      "userId": "11705575949970120379"
     },
     "user_tz": -330
    },
    "id": "qYUioNiqxRyi",
    "nbgrader": {
     "checksum": "5d5ccf5b778b190a8607fe045aebce74",
     "grade": true,
     "grade_id": "cell-c060c271af9064e7",
     "locked": true,
     "points": 2,
     "schema_version": 1,
     "solution": false
    },
    "outputId": "cebf5890-c1b0-4018-f581-a27a313d145f"
   },
   "outputs": [],
   "source": [
    "def test_findMeanStddev():\n",
    "    X = np.array([[3,2,6],[7,4,2],[3,5,1]])\n",
    "    mean, stddev = findMeanStddev(X)\n",
    "    assert np.isclose(mean, np.array([4.33, 3.66, 3.]), atol=0.1).all()\n",
    "    assert np.isclose(stddev, np.array([1.88, 1.24, 2.16]), atol=0.1).all()\n",
    "    print('Test passed', '\\U0001F44D')\n",
    "test_findMeanStddev()"
   ]
  },
  {
   "cell_type": "code",
   "execution_count": null,
   "metadata": {
    "colab": {},
    "colab_type": "code",
    "deletable": false,
    "id": "gG4sm2WfwRqu",
    "nbgrader": {
     "checksum": "6c5fc8807584cce426d6dd8fd10dfc7c",
     "grade": false,
     "grade_id": "cell-80ad17d9f5962f88",
     "locked": false,
     "schema_version": 1,
     "solution": true
    }
   },
   "outputs": [],
   "source": [
    "def normalizeX(X, mean, stddev):\n",
    "    '''\n",
    "    Input:\n",
    "        X: a matrix of size (no. of samples, dimension of each sample)\n",
    "        mean: mean of samples in X (same size as X)\n",
    "        stddev: element-wise std dev of sample in X (same size as X) \n",
    "    Output:\n",
    "        Xn: X modified to have 0 mean and 1 std dev\n",
    "    '''\n",
    "    # YOUR CODE HERE\n",
    "    return Xn"
   ]
  },
  {
   "cell_type": "code",
   "execution_count": null,
   "metadata": {
    "colab": {
     "base_uri": "https://localhost:8080/",
     "height": 35
    },
    "colab_type": "code",
    "deletable": false,
    "editable": false,
    "executionInfo": {
     "elapsed": 1610,
     "status": "ok",
     "timestamp": 1559978204177,
     "user": {
      "displayName": "Vipul Arora",
      "photoUrl": "https://lh3.googleusercontent.com/-iLBfwRLG7ho/AAAAAAAAAAI/AAAAAAAAB6k/T6VcGSrTtSQ/s64/photo.jpg",
      "userId": "11705575949970120379"
     },
     "user_tz": -330
    },
    "id": "t4JdFDb7tULZ",
    "nbgrader": {
     "checksum": "cb4af2655a94d3e991efe9c64ba57a8c",
     "grade": true,
     "grade_id": "cell-0880b9b53201680b",
     "locked": true,
     "points": 2,
     "schema_version": 1,
     "solution": false
    },
    "outputId": "9234c404-119c-4087-8c27-794f7684b564"
   },
   "outputs": [],
   "source": [
    "def test_normalizeX():\n",
    "    X = np.ones((3,3))\n",
    "    m,s = findMeanStddev(X)\n",
    "    assert np.all(m==np.ones(3))\n",
    "    assert np.all(s==np.zeros(3))\n",
    "    assert np.all(normalizeX(X,m,s)==0*X)\n",
    "    # test on random X\n",
    "    X = np.random.random((5,3))\n",
    "    m,s = findMeanStddev(X)\n",
    "    Xn = normalizeX(X,m,s)\n",
    "    mn, sn = findMeanStddev(Xn)\n",
    "    assert np.allclose(mn, np.zeros(3))\n",
    "    assert np.allclose(sn, np.ones(3))\n",
    "    print('Test passed', '\\U0001F44D')\n",
    "test_normalizeX()"
   ]
  },
  {
   "cell_type": "markdown",
   "metadata": {
    "colab_type": "text",
    "id": "1zpEX8EEtULe"
   },
   "source": [
    "### Plotting\n",
    "Could you plot all the samples in X_train with different colors for different classes?"
   ]
  },
  {
   "cell_type": "code",
   "execution_count": null,
   "metadata": {
    "colab": {},
    "colab_type": "code",
    "id": "JfkkWGWZtULf"
   },
   "outputs": [],
   "source": [
    "import matplotlib.pyplot as plt\n",
    "colors = ['b', 'g', 'r', 'c', 'm', 'y', 'k']\n",
    "def plotXY(X, Y):\n",
    "    '''\n",
    "    Inputs:\n",
    "        X: a matrix of size (no. of samples, dimension of each sample)\n",
    "        Y: a matrix of size (no. of samples, no. of classes) - these are one-hot vectors\n",
    "    Action:\n",
    "        Plots the samples in X, their color depends on Y\n",
    "    '''\n",
    "    Ny = Y.shape[1]\n",
    "    for cls in range(Ny):\n",
    "        idx = np.where(Y[:,cls]==1)[0]\n",
    "        plt.plot(X[idx,0], X[idx,1], colors[cls]+'.')\n"
   ]
  },
  {
   "cell_type": "markdown",
   "metadata": {
    "colab_type": "text",
    "id": "kB3jK6IrtULk"
   },
   "source": [
    "## Creating the Network\n",
    "We now create the network with dense layers: \n",
    "$y = f(Wx)$\n",
    "\n",
    "ReLU activation: \n",
    "$f(h) = h, h>0; 0, h\\le 0$\n",
    "\n",
    "Softmax activation: \n",
    "$f(h_i) = \\frac{\\exp(h_i)}{\\sum_j \\exp(h_j)}$\n",
    "\n",
    "Categorical cross-entropy loss:\n",
    "$\\mathcal{L} = -\\sum_t y^d_t \\log y_t$\n",
    "\n",
    "Stochastic Gradient Descent:\n",
    "$w_{ij} \\leftarrow w_{ij} - \\eta \\frac{\\partial \\mathcal{L}}{\\partial w_{ij}}$"
   ]
  },
  {
   "cell_type": "code",
   "execution_count": null,
   "metadata": {
    "colab": {
     "base_uri": "https://localhost:8080/",
     "height": 35
    },
    "colab_type": "code",
    "deletable": false,
    "executionInfo": {
     "elapsed": 3165,
     "status": "ok",
     "timestamp": 1559978205770,
     "user": {
      "displayName": "Vipul Arora",
      "photoUrl": "https://lh3.googleusercontent.com/-iLBfwRLG7ho/AAAAAAAAAAI/AAAAAAAAB6k/T6VcGSrTtSQ/s64/photo.jpg",
      "userId": "11705575949970120379"
     },
     "user_tz": -330
    },
    "id": "g60Qem92tULl",
    "nbgrader": {
     "checksum": "1f332e46663382a71f1dfa333725d807",
     "grade": false,
     "grade_id": "cell-e18133df577f7820",
     "locked": false,
     "schema_version": 1,
     "solution": true
    },
    "outputId": "a667171c-357f-44a0-b7ef-cbeb04d35d3b"
   },
   "outputs": [],
   "source": [
    "import keras\n",
    "from keras.layers import Input, Dense\n",
    "from keras.models import Model\n",
    "from keras import optimizers\n",
    "\n",
    "def makeNN(Nx, Nh, Ny):\n",
    "    '''\n",
    "    Input:\n",
    "        Nx: int; no. of input nodes; shape of each sample; i.e., X.shape[1:] \n",
    "        Nh: int; no. of hidden neurons\n",
    "        Ny: int; no. of output nodes; shape of output; i.e., Y.shape[1]\n",
    "    Output:\n",
    "        model: keras NN model with Input layer, Dense layer with Nh neurons, \n",
    "                and Dense output layer with softmax non-linearity, loss function\n",
    "                categorical-crossentropy, optimizer SGD.\n",
    "    '''\n",
    "    # YOUR CODE HERE\n",
    "    return model"
   ]
  },
  {
   "cell_type": "markdown",
   "metadata": {
    "colab_type": "text",
    "id": "Q-Gf4DSltULt"
   },
   "source": [
    "### Plotting the model"
   ]
  },
  {
   "cell_type": "code",
   "execution_count": null,
   "metadata": {
    "colab": {},
    "colab_type": "code",
    "id": "0qkPv1xptULu"
   },
   "outputs": [],
   "source": [
    "def plotModel(model):\n",
    "    from keras.utils import plot_model\n",
    "    plot_model(model, show_shapes=True, show_layer_names=True, to_file='model.png')\n",
    "    from IPython.display import Image\n",
    "    Image(retina=True, filename='model.png')"
   ]
  },
  {
   "cell_type": "markdown",
   "metadata": {
    "colab_type": "text",
    "id": "XO26y8VZtULz"
   },
   "source": [
    "### Training\n"
   ]
  },
  {
   "cell_type": "code",
   "execution_count": null,
   "metadata": {
    "colab": {},
    "colab_type": "code",
    "deletable": false,
    "id": "Yfvm6pH5tUL0",
    "nbgrader": {
     "checksum": "78b5d80f2ec4bcbc57d80a6bc475f285",
     "grade": false,
     "grade_id": "cell-8a4f621147d44a84",
     "locked": false,
     "schema_version": 1,
     "solution": true
    }
   },
   "outputs": [],
   "source": [
    "def trainNN(model, X_train, Y_train, Nepochs):\n",
    "    '''\n",
    "    Action:\n",
    "        Train model with model.fit\n",
    "    '''\n",
    "    # YOUR CODE HERE"
   ]
  },
  {
   "cell_type": "code",
   "execution_count": null,
   "metadata": {
    "colab": {},
    "colab_type": "code",
    "deletable": false,
    "id": "QZRghwIG2I5c",
    "nbgrader": {
     "checksum": "5d34ead5470a39daddbd54aa7f19ef1f",
     "grade": false,
     "grade_id": "cell-c45fc6de4c3fc4c9",
     "locked": false,
     "schema_version": 1,
     "solution": true
    }
   },
   "outputs": [],
   "source": [
    "def trainModel(N, Nh, Nepochs):\n",
    "    '''\n",
    "    generateXY, normalizeX, oneHot, makeNN, trainNN\n",
    "    Input:\n",
    "        N: int; no. of training samples per class\n",
    "        Nh: int; no. of neurons in hidden layer\n",
    "    Output:\n",
    "        model: keras NN model trained with the training data\n",
    "        mean_train, stddev_train: mean and stddev of training data - you will \n",
    "                            need this for normalizing your test data\n",
    "    '''\n",
    "    # YOUR CODE HERE\n",
    "    return model, mean_train, stddev_train"
   ]
  },
  {
   "cell_type": "markdown",
   "metadata": {
    "colab_type": "text",
    "id": "y7a1LEcgtUL4"
   },
   "source": [
    "### Evaluation\n",
    "Could you:\n",
    "- Generate 20 samples from each class\n",
    "- Normalize them with mean_train and stddev_train\n",
    "- Get Y_test as one hot encoded labels"
   ]
  },
  {
   "cell_type": "code",
   "execution_count": null,
   "metadata": {
    "colab": {},
    "colab_type": "code",
    "deletable": false,
    "id": "dkj4meV_tUL9",
    "nbgrader": {
     "checksum": "1c367e3d2d36a80eb1fffbb27eb32da8",
     "grade": false,
     "grade_id": "cell-02b3b15dc3f435fe",
     "locked": false,
     "schema_version": 1,
     "solution": true
    }
   },
   "outputs": [],
   "source": [
    "def testModel(model, Ntest, mean_train, stddev_train):\n",
    "    '''\n",
    "    generateXY for test, normalize, onehot, evaluate the model\n",
    "    Inputs:\n",
    "        model: trained Keras NN model\n",
    "        Ntest: int; number of test samples per class\n",
    "    Output:\n",
    "        accuracy: float; accuracy on the test data\n",
    "        CM: confusion matrix on the test data\n",
    "    '''\n",
    "    # YOUR CODE HERE\n",
    "    return accuracy, CM\n"
   ]
  },
  {
   "cell_type": "code",
   "execution_count": null,
   "metadata": {
    "colab": {},
    "colab_type": "code",
    "id": "N9AKg5YBtUMB"
   },
   "outputs": [],
   "source": [
    "# model, mean_train, stddev_train = trainModel(50, 20, 10)\n",
    "# accuracy, CM = testModel(model, 10, mean_train, stddev_train)"
   ]
  },
  {
   "cell_type": "markdown",
   "metadata": {
    "colab_type": "text",
    "id": "1WdkjiA2AZYj"
   },
   "source": [
    "# ADVANCED QUESTIONS\n",
    "\n"
   ]
  },
  {
   "cell_type": "markdown",
   "metadata": {
    "colab_type": "text",
    "id": "OFBjZFLnA100"
   },
   "source": [
    "### Effect of changing Nh\n",
    "### Effect of changing Nepochs\n",
    "### Effect of changing N, no. of training samples\n",
    "\n",
    "Can you observe overfitting? \n",
    "\n",
    "Can you do hyperparameter tuning here? \n",
    "\n",
    "To normalize test data, why do we use the mean and stddev of training data?\n"
   ]
  }
 ],
 "metadata": {
  "colab": {
   "collapsed_sections": [],
   "name": "190608_kerasbasics_gaussian-assignment.ipynb",
   "provenance": [],
   "version": "0.3.2"
  },
  "kernelspec": {
   "display_name": "Python 3",
   "language": "python",
   "name": "python3"
  },
  "language_info": {
   "codemirror_mode": {
    "name": "ipython",
    "version": 3
   },
   "file_extension": ".py",
   "mimetype": "text/x-python",
   "name": "python",
   "nbconvert_exporter": "python",
   "pygments_lexer": "ipython3",
   "version": "3.6.8"
  }
 },
 "nbformat": 4,
 "nbformat_minor": 1
}
